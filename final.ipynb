{
 "cells": [
  {
   "cell_type": "markdown",
   "metadata": {},
   "source": [
    "# Hate Speech Identifier"
   ]
  },
  {
   "cell_type": "markdown",
   "metadata": {},
   "source": [
    "## Import"
   ]
  },
  {
   "cell_type": "code",
   "execution_count": 10,
   "metadata": {},
   "outputs": [
    {
     "name": "stderr",
     "output_type": "stream",
     "text": [
      "[nltk_data] Downloading package stopwords to /Users/qa/nltk_data...\n",
      "[nltk_data]   Package stopwords is already up-to-date!\n",
      "[nltk_data] Downloading package punkt to /Users/qa/nltk_data...\n",
      "[nltk_data]   Package punkt is already up-to-date!\n"
     ]
    }
   ],
   "source": [
    "# nltk library\n",
    "import nltk\n",
    "nltk.download(\"stopwords\")\n",
    "nltk.download(\"punkt\")\n",
    "\n",
    "from nltk.stem.wordnet import WordNetLemmatizer\n",
    "from nltk.tokenize import word_tokenize\n",
    "from nltk.corpus import stopwords\n",
    "from nltk.stem.porter import PorterStemmer\n",
    "from nltk import pos_tag\n",
    "\n",
    "import pandas as pd\n",
    "import numpy as np\n",
    "import re   # Regular expressions\n",
    "import requests\n",
    "from io import StringIO\n",
    "import string\n",
    "\n",
    "# sklearn\n",
    "from sklearn.feature_extraction.text import TfidfVectorizer\n",
    "from sklearn.model_selection import train_test_split\n",
    "from sklearn.linear_model import LogisticRegression\n",
    "from sklearn.metrics import( \n",
    "    roc_auc_score, \n",
    "    roc_curve,\n",
    "    auc, \n",
    "    confusion_matrix,\n",
    "    recall_score, \n",
    "    precision_score, \n",
    "    accuracy_score,\n",
    "    classification_report,\n",
    "    plot_confusion_matrix\n",
    ")\n",
    "from sklearn.svm import LinearSVC, SVC\n",
    "from sklearn.model_selection import GridSearchCV, StratifiedKFold\n",
    "from sklearn.dummy import DummyClassifier\n",
    "from sklearn.naive_bayes import MultinomialNB\n",
    "from sklearn.ensemble import BaggingClassifier, GradientBoostingClassifier, VotingClassifier, StackingClassifier\n",
    "from sklearn.preprocessing import minmax_scale\n",
    "from sklearn.pipeline import Pipeline\n",
    "from sklearn.feature_selection import SelectFromModel\n",
    "\n",
    "# Misc\n",
    "import matplotlib.pyplot as plt\n",
    "import textstat\n",
    "from scipy.sparse import hstack\n",
    "from vaderSentiment.vaderSentiment import SentimentIntensityAnalyzer\n",
    "from imblearn.over_sampling import SMOTE\n",
    "from joblib import dump, load"
   ]
  },
  {
   "cell_type": "markdown",
   "metadata": {},
   "source": [
    "### Read Data"
   ]
  },
  {
   "cell_type": "code",
   "execution_count": 38,
   "metadata": {},
   "outputs": [],
   "source": [
    "LINKS = {\n",
    "    \"df_9\": 'https://drive.google.com/file/d/1PgYUKf5awbdVF_9iHvz8AynBEfTNrWXK/view?usp=sharing',\n",
    "    \"df_20\": 'https://drive.google.com/file/d/1DNvxeXPbknDCjShonzJwgLVIvgC1A8Ae/view?usp=sharing'\n",
    "}\n",
    "def read_from_google_sheet(url: str) -> pd.DataFrame:\n",
    "    file_id = url.split('/')[-2]\n",
    "    dwn_url='https://drive.google.com/uc?export=download&id=' + file_id\n",
    "    url = requests.get(dwn_url).text\n",
    "    csv_raw = StringIO(url)\n",
    "    return pd.read_csv(csv_raw)\n",
    "\n",
    "def read_data():\n",
    "    df = read_from_google_sheet(LINKS['df_9'])\n",
    "    \n",
    "    return df"
   ]
  },
  {
   "cell_type": "code",
   "execution_count": 39,
   "metadata": {},
   "outputs": [
    {
     "name": "stdout",
     "output_type": "stream",
     "text": [
      "(24783, 7)\n"
     ]
    },
    {
     "data": {
      "text/html": [
       "<div>\n",
       "<style scoped>\n",
       "    .dataframe tbody tr th:only-of-type {\n",
       "        vertical-align: middle;\n",
       "    }\n",
       "\n",
       "    .dataframe tbody tr th {\n",
       "        vertical-align: top;\n",
       "    }\n",
       "\n",
       "    .dataframe thead th {\n",
       "        text-align: right;\n",
       "    }\n",
       "</style>\n",
       "<table border=\"1\" class=\"dataframe\">\n",
       "  <thead>\n",
       "    <tr style=\"text-align: right;\">\n",
       "      <th></th>\n",
       "      <th>Unnamed: 0</th>\n",
       "      <th>count</th>\n",
       "      <th>hate_speech</th>\n",
       "      <th>offensive_language</th>\n",
       "      <th>neither</th>\n",
       "      <th>class</th>\n",
       "      <th>tweet</th>\n",
       "    </tr>\n",
       "  </thead>\n",
       "  <tbody>\n",
       "    <tr>\n",
       "      <th>0</th>\n",
       "      <td>0</td>\n",
       "      <td>3</td>\n",
       "      <td>0</td>\n",
       "      <td>0</td>\n",
       "      <td>3</td>\n",
       "      <td>2</td>\n",
       "      <td>!!! RT @mayasolovely: As a woman you shouldn't...</td>\n",
       "    </tr>\n",
       "    <tr>\n",
       "      <th>1</th>\n",
       "      <td>1</td>\n",
       "      <td>3</td>\n",
       "      <td>0</td>\n",
       "      <td>3</td>\n",
       "      <td>0</td>\n",
       "      <td>1</td>\n",
       "      <td>!!!!! RT @mleew17: boy dats cold...tyga dwn ba...</td>\n",
       "    </tr>\n",
       "    <tr>\n",
       "      <th>2</th>\n",
       "      <td>2</td>\n",
       "      <td>3</td>\n",
       "      <td>0</td>\n",
       "      <td>3</td>\n",
       "      <td>0</td>\n",
       "      <td>1</td>\n",
       "      <td>!!!!!!! RT @UrKindOfBrand Dawg!!!! RT @80sbaby...</td>\n",
       "    </tr>\n",
       "    <tr>\n",
       "      <th>3</th>\n",
       "      <td>3</td>\n",
       "      <td>3</td>\n",
       "      <td>0</td>\n",
       "      <td>2</td>\n",
       "      <td>1</td>\n",
       "      <td>1</td>\n",
       "      <td>!!!!!!!!! RT @C_G_Anderson: @viva_based she lo...</td>\n",
       "    </tr>\n",
       "    <tr>\n",
       "      <th>4</th>\n",
       "      <td>4</td>\n",
       "      <td>6</td>\n",
       "      <td>0</td>\n",
       "      <td>6</td>\n",
       "      <td>0</td>\n",
       "      <td>1</td>\n",
       "      <td>!!!!!!!!!!!!! RT @ShenikaRoberts: The shit you...</td>\n",
       "    </tr>\n",
       "  </tbody>\n",
       "</table>\n",
       "</div>"
      ],
      "text/plain": [
       "   Unnamed: 0  count  hate_speech  offensive_language  neither  class  \\\n",
       "0           0      3            0                   0        3      2   \n",
       "1           1      3            0                   3        0      1   \n",
       "2           2      3            0                   3        0      1   \n",
       "3           3      3            0                   2        1      1   \n",
       "4           4      6            0                   6        0      1   \n",
       "\n",
       "                                               tweet  \n",
       "0  !!! RT @mayasolovely: As a woman you shouldn't...  \n",
       "1  !!!!! RT @mleew17: boy dats cold...tyga dwn ba...  \n",
       "2  !!!!!!! RT @UrKindOfBrand Dawg!!!! RT @80sbaby...  \n",
       "3  !!!!!!!!! RT @C_G_Anderson: @viva_based she lo...  \n",
       "4  !!!!!!!!!!!!! RT @ShenikaRoberts: The shit you...  "
      ]
     },
     "execution_count": 39,
     "metadata": {},
     "output_type": "execute_result"
    }
   ],
   "source": [
    "df = read_data()\n",
    "print(df.shape)\n",
    "df.head()"
   ]
  },
  {
   "cell_type": "markdown",
   "metadata": {},
   "source": [
    "### Re-format Data\n",
    "- Offensive tweets = all tweets labeled as 0 or 1 -> Re-label as 0\n",
    "- Non-offensive = all tweets labeled as 2 -> Re-label as 1"
   ]
  },
  {
   "cell_type": "code",
   "execution_count": 40,
   "metadata": {},
   "outputs": [
    {
     "name": "stdout",
     "output_type": "stream",
     "text": [
      "Number of offensive samples: 20620\n",
      "Number of non-offensive samples: 4163\n"
     ]
    }
   ],
   "source": [
    "df = df[['tweet', 'class']]\n",
    "df['class'] = df['class'].apply(lambda x: 1 if x == 2 else 0)\n",
    "print('Number of offensive samples:', df[df['class'] == 0].shape[0])\n",
    "print('Number of non-offensive samples:', df[df['class'] == 1].shape[0])"
   ]
  },
  {
   "cell_type": "code",
   "execution_count": 41,
   "metadata": {},
   "outputs": [],
   "source": [
    "# tweet parsing\n",
    "def preprocess(tweet: str):\n",
    "    space_pattern = '\\s+'\n",
    "    url_regex = ('http[s]?://(?:[a-zA-Z]|[0-9]|[$-_@.&+]|'\n",
    "        '[!*\\(\\),]|(?:%[0-9a-fA-F][0-9a-fA-F]))+')\n",
    "    mention_regex = '@[^\\s]+'\n",
    "    symbol_regex = '&#[^\\s]+'\n",
    "    \n",
    "    parsed_tweet = tweet.lower()\n",
    "    parsed_tweet = re.sub(space_pattern, ' ', parsed_tweet)\n",
    "    parsed_tweet = re.sub(url_regex, 'URLHERE', parsed_tweet)\n",
    "    parsed_tweet = re.sub(symbol_regex, ' ', parsed_tweet)\n",
    "    parsed_tweet = re.sub(mention_regex, 'MENTIONHERE', parsed_tweet)\n",
    "    \n",
    "    return parsed_tweet"
   ]
  },
  {
   "cell_type": "markdown",
   "metadata": {},
   "source": [
    "### Extract Features"
   ]
  },
  {
   "cell_type": "code",
   "execution_count": 52,
   "metadata": {},
   "outputs": [],
   "source": [
    "def analyzer(doc: str):\n",
    "    stemmer = PorterStemmer()\n",
    "    words = word_tokenize(doc)\n",
    "    filtered_words = [word for word in words if not word in all_stopwords and word.isalnum()]\n",
    "    \n",
    "    return [porter.stem(word) for word in filtered_words if word not in ['URLHERE', 'MENTIONHERE']]"
   ]
  },
  {
   "cell_type": "code",
   "execution_count": 43,
   "metadata": {},
   "outputs": [],
   "source": [
    "all_stopwords = stopwords.words('english')\n",
    "all_stopwords += ['user', '@', '!', 'rt', 'http', 'lol', 'like', 'amp', 'co', 'get', 'ff']\n",
    "vectorizer = TfidfVectorizer(\n",
    "    preprocessor=preprocess,\n",
    "    stop_words=all_stopwords,\n",
    "    min_df=5,\n",
    "    max_df=.75,\n",
    "    analyzer=analyzer,\n",
    "    ngram_range=(1,3),\n",
    "    smooth_idf=False,\n",
    "    max_features=10000\n",
    ")\n",
    "# X_tweet = vectorizer.fit_transform(df.tweet)"
   ]
  },
  {
   "cell_type": "code",
   "execution_count": 51,
   "metadata": {},
   "outputs": [
    {
     "name": "stdout",
     "output_type": "stream",
     "text": [
      "(28868, 4310) (28868,)\n"
     ]
    },
    {
     "data": {
      "text/plain": [
       "['model.joblib']"
      ]
     },
     "execution_count": 51,
     "metadata": {},
     "output_type": "execute_result"
    }
   ],
   "source": [
    "X, y = vectorizer.fit_transform(df['tweet']), df['class']\n",
    "X_train, X_test, y_train, y_test = train_test_split(X, y, stratify=y,  test_size=0.3)\n",
    "\n",
    "### SMOTE\n",
    "\n",
    "sm = SMOTE(random_state=42)\n",
    "X_train_sm, y_train_sm = sm.fit_resample(X_train, y_train)\n",
    "print(X_train_sm.shape, y_train_sm.shape)\n",
    "\n",
    "### SMOTE\n",
    "\n",
    "clf = LinearSVC(max_iter=1000000, class_weight={1: 4.5, 0: 1}, loss='hinge')\n",
    "clf.fit(X_train_sm, y_train_sm)\n",
    "\n",
    "pipeline = Pipeline([\n",
    "    ('vectorizer', vectorizer),\n",
    "    ('classifier', clf)\n",
    "])\n",
    "\n",
    "dump(pipeline, 'model.joblib')"
   ]
  },
  {
   "cell_type": "code",
   "execution_count": 45,
   "metadata": {},
   "outputs": [
    {
     "name": "stdout",
     "output_type": "stream",
     "text": [
      "              precision    recall  f1-score   support\n",
      "\n",
      "           0       0.99      0.93      0.96      6186\n",
      "           1       0.74      0.94      0.83      1249\n",
      "\n",
      "    accuracy                           0.94      7435\n",
      "   macro avg       0.86      0.94      0.90      7435\n",
      "weighted avg       0.95      0.94      0.94      7435\n",
      "\n"
     ]
    }
   ],
   "source": [
    "report = classification_report(y_test, clf.predict(X_test))\n",
    "print(report)"
   ]
  },
  {
   "cell_type": "code",
   "execution_count": 46,
   "metadata": {},
   "outputs": [
    {
     "data": {
      "image/png": "[encoded data removed]",
      "text/plain": [
       "<Figure size 432x288 with 2 Axes>"
      ]
     },
     "metadata": {
      "needs_background": "light"
     },
     "output_type": "display_data"
    }
   ],
   "source": [
    "cm = plot_confusion_matrix(clf, X_test, y_test, normalize='true')"
   ]
  },
  {
   "cell_type": "code",
   "execution_count": 50,
   "metadata": {},
   "outputs": [
    {
     "data": {
      "text/plain": [
       "'Offensive speech'"
      ]
     },
     "execution_count": 50,
     "metadata": {},
     "output_type": "execute_result"
    }
   ],
   "source": [
    "def class_to_name(class_label):\n",
    "    \"\"\"\n",
    "    This function is used to map a numeric\n",
    "    feature name to a particular class.\n",
    "    \"\"\"\n",
    "    if class_label == 0:\n",
    "        return \"Offensive speech\"\n",
    "    elif class_label == 1:\n",
    "        return \"Not offensive speech\"\n",
    "    else:\n",
    "        return \"No label\"\n",
    "\n",
    "class_to_name(pipeline.predict(['Being gay is not a crime'])[0])"
   ]
  },
  {
   "cell_type": "code",
   "execution_count": null,
   "metadata": {},
   "outputs": [],
   "source": []
  }
 ],
 "metadata": {
  "kernelspec": {
   "display_name": "Python 3",
   "language": "python",
   "name": "python3"
  },
  "language_info": {
   "codemirror_mode": {
    "name": "ipython",
    "version": 3
   },
   "file_extension": ".py",
   "mimetype": "text/x-python",
   "name": "python",
   "nbconvert_exporter": "python",
   "pygments_lexer": "ipython3",
   "version": "3.8.1"
  }
 },
 "nbformat": 4,
 "nbformat_minor": 4
}
